{
 "cells": [
  {
   "cell_type": "markdown",
   "metadata": {},
   "source": [
    "# Assignment 2: LeNet"
   ]
  },
  {
   "cell_type": "markdown",
   "metadata": {},
   "source": [
    "#### loading saved environment vars"
   ]
  },
  {
   "cell_type": "code",
   "execution_count": 1,
   "metadata": {},
   "outputs": [],
   "source": [
    "# import dill\n",
    "# dill.load_session(\"Training_env.db\")"
   ]
  },
  {
   "cell_type": "markdown",
   "metadata": {},
   "source": [
    "## Loading Data"
   ]
  },
  {
   "cell_type": "code",
   "execution_count": 2,
   "metadata": {},
   "outputs": [],
   "source": [
    "import numpy as np"
   ]
  },
  {
   "cell_type": "code",
   "execution_count": 3,
   "metadata": {},
   "outputs": [],
   "source": [
    "from scipy.special import softmax"
   ]
  },
  {
   "cell_type": "code",
   "execution_count": 4,
   "metadata": {},
   "outputs": [],
   "source": [
    "from model.LeNet5 import LeNet5\n",
    "from model.utilities import *"
   ]
  },
  {
   "cell_type": "code",
   "execution_count": 5,
   "metadata": {},
   "outputs": [],
   "source": [
    "from A2 import *"
   ]
  },
  {
   "cell_type": "code",
   "execution_count": 6,
   "metadata": {},
   "outputs": [],
   "source": [
    "global args\n",
    "    # args = get_parser()\n",
    "args = {\n",
    "    \"batch_size\": 256,\n",
    "    \"epoch\": 20,\n",
    "    \"model_path\": \"model_data_19.pkl\",\n",
    "    \"test_image_path\": \"dataset/MNIST/t10k-images-idx3-ubyte\",\n",
    "    \"test_label_path\": \"dataset/MNIST/t10k-labels-idx1-ubyte\",\n",
    "    \"train_image_path\": \"dataset/MNIST/train-images-idx3-ubyte\",\n",
    "    \"train_label_path\": \"dataset/MNIST/train-labels-idx1-ubyte\",\n",
    "}\n",
    "train_data, test_data = load_dataset(args[\"test_image_path\"], args[\"test_label_path\"], args[\"train_image_path\"],\n",
    "                                     args[\"train_label_path\"])\n",
    "train_data = list(train_data)\n",
    "test_data = list(test_data)\n",
    "\n",
    "n_train = 60000\n",
    "n_test = 10000\n",
    "train_data[0] = train_data[0].reshape(60000,1,32,32)[:n_train]\n",
    "train_data[1] = train_data[1][:n_train]\n",
    "test_data[0] = test_data[0].reshape(10000,1,32,32)[:n_test]\n",
    "test_data[1] = test_data[1][:n_test]"
   ]
  },
  {
   "cell_type": "markdown",
   "metadata": {},
   "source": [
    "## Training"
   ]
  },
  {
   "cell_type": "code",
   "execution_count": 7,
   "metadata": {},
   "outputs": [],
   "source": [
    "model = LeNet5()"
   ]
  },
  {
   "cell_type": "code",
   "execution_count": 8,
   "metadata": {},
   "outputs": [],
   "source": [
    "# set lr for each epoch\n",
    "lr_global_list = np.array([5e-4] * 5 + [2e-4] * 5 + [1e-4] * 10)"
   ]
  },
  {
   "cell_type": "code",
   "execution_count": 9,
   "metadata": {
    "collapsed": true,
    "jupyter": {
     "outputs_hidden": true
    }
   },
   "outputs": [
    {
     "name": "stdout",
     "output_type": "stream",
     "text": [
      "---------- epoch 1 begin ----------\n",
      "learning rate: 0.0005\n",
      "batch size: 256\n",
      "Training: \n"
     ]
    },
    {
     "name": "stderr",
     "output_type": "stream",
     "text": [
      "100%|██████████| 235/235 [03:53<00:00,  1.01it/s]\n"
     ]
    },
    {
     "name": "stdout",
     "output_type": "stream",
     "text": [
      "Done, total cost of epoch 1: 74464.16733045716\n",
      "0/1 error of training set:  6095 / 60000\n",
      "0/1 error of testing set:  915 / 10000\n",
      "Time used:  296.85124802589417 sec\n",
      "---------- epoch 1 end ------------\n",
      "---------- epoch 2 begin ----------\n",
      "learning rate: 0.0005\n",
      "batch size: 256\n",
      "Training: \n"
     ]
    },
    {
     "name": "stderr",
     "output_type": "stream",
     "text": [
      "100%|██████████| 235/235 [03:45<00:00,  1.04it/s]\n"
     ]
    },
    {
     "name": "stdout",
     "output_type": "stream",
     "text": [
      "Done, total cost of epoch 2: 15766.696078993506\n",
      "0/1 error of training set:  3563 / 60000\n",
      "0/1 error of testing set:  564 / 10000\n",
      "Time used:  287.75925302505493 sec\n",
      "---------- epoch 2 end ------------\n",
      "---------- epoch 3 begin ----------\n",
      "learning rate: 0.0005\n",
      "batch size: 256\n",
      "Training: \n"
     ]
    },
    {
     "name": "stderr",
     "output_type": "stream",
     "text": [
      "100%|██████████| 235/235 [03:46<00:00,  1.04it/s]\n"
     ]
    },
    {
     "name": "stdout",
     "output_type": "stream",
     "text": [
      "Done, total cost of epoch 3: 10123.379761067867\n",
      "0/1 error of training set:  2406 / 60000\n",
      "0/1 error of testing set:  418 / 10000\n",
      "Time used:  288.4657108783722 sec\n",
      "---------- epoch 3 end ------------\n",
      "---------- epoch 4 begin ----------\n",
      "learning rate: 0.0005\n",
      "batch size: 256\n",
      "Training: \n"
     ]
    },
    {
     "name": "stderr",
     "output_type": "stream",
     "text": [
      "100%|██████████| 235/235 [03:46<00:00,  1.04it/s]\n"
     ]
    },
    {
     "name": "stdout",
     "output_type": "stream",
     "text": [
      "Done, total cost of epoch 4: 7870.254506841502\n",
      "0/1 error of training set:  2362 / 60000\n",
      "0/1 error of testing set:  435 / 10000\n",
      "Time used:  288.68745493888855 sec\n",
      "---------- epoch 4 end ------------\n",
      "---------- epoch 5 begin ----------\n",
      "learning rate: 0.0005\n",
      "batch size: 256\n",
      "Training: \n"
     ]
    },
    {
     "name": "stderr",
     "output_type": "stream",
     "text": [
      "100%|██████████| 235/235 [03:36<00:00,  1.08it/s]\n"
     ]
    },
    {
     "name": "stdout",
     "output_type": "stream",
     "text": [
      "Done, total cost of epoch 5: 6553.620978456589\n",
      "0/1 error of training set:  2043 / 60000\n",
      "0/1 error of testing set:  358 / 10000\n",
      "Time used:  276.6350998878479 sec\n",
      "---------- epoch 5 end ------------\n",
      "---------- epoch 6 begin ----------\n",
      "learning rate: 0.0002\n",
      "batch size: 256\n",
      "Training: \n"
     ]
    },
    {
     "name": "stderr",
     "output_type": "stream",
     "text": [
      "100%|██████████| 235/235 [03:31<00:00,  1.11it/s]\n"
     ]
    },
    {
     "name": "stdout",
     "output_type": "stream",
     "text": [
      "Done, total cost of epoch 6: 4682.740774156979\n",
      "0/1 error of training set:  1304 / 60000\n",
      "0/1 error of testing set:  264 / 10000\n",
      "Time used:  271.14579582214355 sec\n",
      "---------- epoch 6 end ------------\n",
      "---------- epoch 7 begin ----------\n",
      "learning rate: 0.0002\n",
      "batch size: 256\n",
      "Training: \n"
     ]
    },
    {
     "name": "stderr",
     "output_type": "stream",
     "text": [
      "100%|██████████| 235/235 [03:37<00:00,  1.08it/s]\n"
     ]
    },
    {
     "name": "stdout",
     "output_type": "stream",
     "text": [
      "Done, total cost of epoch 7: 4266.953967695799\n",
      "0/1 error of training set:  1268 / 60000\n",
      "0/1 error of testing set:  256 / 10000\n",
      "Time used:  276.5168352127075 sec\n",
      "---------- epoch 7 end ------------\n",
      "---------- epoch 8 begin ----------\n",
      "learning rate: 0.0002\n",
      "batch size: 256\n",
      "Training: \n"
     ]
    },
    {
     "name": "stderr",
     "output_type": "stream",
     "text": [
      "100%|██████████| 235/235 [03:34<00:00,  1.10it/s]\n"
     ]
    },
    {
     "name": "stdout",
     "output_type": "stream",
     "text": [
      "Done, total cost of epoch 8: 3962.4268687882713\n",
      "0/1 error of training set:  1131 / 60000\n",
      "0/1 error of testing set:  262 / 10000\n",
      "Time used:  272.723788022995 sec\n",
      "---------- epoch 8 end ------------\n",
      "---------- epoch 9 begin ----------\n",
      "learning rate: 0.0002\n",
      "batch size: 256\n",
      "Training: \n"
     ]
    },
    {
     "name": "stderr",
     "output_type": "stream",
     "text": [
      "100%|██████████| 235/235 [03:32<00:00,  1.11it/s]\n"
     ]
    },
    {
     "name": "stdout",
     "output_type": "stream",
     "text": [
      "Done, total cost of epoch 9: 3765.1286953761323\n",
      "0/1 error of training set:  1105 / 60000\n",
      "0/1 error of testing set:  249 / 10000\n",
      "Time used:  272.01190280914307 sec\n",
      "---------- epoch 9 end ------------\n",
      "---------- epoch 10 begin ----------\n",
      "learning rate: 0.0002\n",
      "batch size: 256\n",
      "Training: \n"
     ]
    },
    {
     "name": "stderr",
     "output_type": "stream",
     "text": [
      "100%|██████████| 235/235 [03:32<00:00,  1.10it/s]\n"
     ]
    },
    {
     "name": "stdout",
     "output_type": "stream",
     "text": [
      "Done, total cost of epoch 10: 3504.519184016854\n",
      "0/1 error of training set:  957 / 60000\n",
      "0/1 error of testing set:  237 / 10000\n",
      "Time used:  270.97782707214355 sec\n",
      "---------- epoch 10 end ------------\n",
      "---------- epoch 11 begin ----------\n",
      "learning rate: 0.0001\n",
      "batch size: 256\n",
      "Training: \n"
     ]
    },
    {
     "name": "stderr",
     "output_type": "stream",
     "text": [
      "100%|██████████| 235/235 [03:32<00:00,  1.10it/s]\n"
     ]
    },
    {
     "name": "stdout",
     "output_type": "stream",
     "text": [
      "Done, total cost of epoch 11: 3103.672261012695\n",
      "0/1 error of training set:  909 / 60000\n",
      "0/1 error of testing set:  237 / 10000\n",
      "Time used:  272.2490348815918 sec\n",
      "---------- epoch 11 end ------------\n",
      "---------- epoch 12 begin ----------\n",
      "learning rate: 0.0001\n",
      "batch size: 256\n",
      "Training: \n"
     ]
    },
    {
     "name": "stderr",
     "output_type": "stream",
     "text": [
      "100%|██████████| 235/235 [03:37<00:00,  1.08it/s]\n"
     ]
    },
    {
     "name": "stdout",
     "output_type": "stream",
     "text": [
      "Done, total cost of epoch 12: 2992.694962658328\n",
      "0/1 error of training set:  871 / 60000\n",
      "0/1 error of testing set:  234 / 10000\n",
      "Time used:  276.31784892082214 sec\n",
      "---------- epoch 12 end ------------\n",
      "---------- epoch 13 begin ----------\n",
      "learning rate: 0.0001\n",
      "batch size: 256\n",
      "Training: \n"
     ]
    },
    {
     "name": "stderr",
     "output_type": "stream",
     "text": [
      "100%|██████████| 235/235 [03:36<00:00,  1.09it/s]\n"
     ]
    },
    {
     "name": "stdout",
     "output_type": "stream",
     "text": [
      "Done, total cost of epoch 13: 2924.789447716897\n",
      "0/1 error of training set:  833 / 60000\n",
      "0/1 error of testing set:  232 / 10000\n",
      "Time used:  276.93936371803284 sec\n",
      "---------- epoch 13 end ------------\n",
      "---------- epoch 14 begin ----------\n",
      "learning rate: 0.0001\n",
      "batch size: 256\n",
      "Training: \n"
     ]
    },
    {
     "name": "stderr",
     "output_type": "stream",
     "text": [
      "100%|██████████| 235/235 [03:36<00:00,  1.09it/s]\n"
     ]
    },
    {
     "name": "stdout",
     "output_type": "stream",
     "text": [
      "Done, total cost of epoch 14: 2827.3887001703683\n",
      "0/1 error of training set:  832 / 60000\n",
      "0/1 error of testing set:  220 / 10000\n",
      "Time used:  275.9610912799835 sec\n",
      "---------- epoch 14 end ------------\n",
      "---------- epoch 15 begin ----------\n",
      "learning rate: 0.0001\n",
      "batch size: 256\n",
      "Training: \n"
     ]
    },
    {
     "name": "stderr",
     "output_type": "stream",
     "text": [
      "100%|██████████| 235/235 [03:31<00:00,  1.11it/s]\n"
     ]
    },
    {
     "name": "stdout",
     "output_type": "stream",
     "text": [
      "Done, total cost of epoch 15: 2743.852630165749\n",
      "0/1 error of training set:  763 / 60000\n",
      "0/1 error of testing set:  222 / 10000\n",
      "Time used:  268.17101311683655 sec\n",
      "---------- epoch 15 end ------------\n",
      "---------- epoch 16 begin ----------\n",
      "learning rate: 0.0001\n",
      "batch size: 256\n",
      "Training: \n"
     ]
    },
    {
     "name": "stderr",
     "output_type": "stream",
     "text": [
      "100%|██████████| 235/235 [03:31<00:00,  1.11it/s]\n"
     ]
    },
    {
     "name": "stdout",
     "output_type": "stream",
     "text": [
      "Done, total cost of epoch 16: 2675.628182354029\n",
      "0/1 error of training set:  773 / 60000\n",
      "0/1 error of testing set:  221 / 10000\n",
      "Time used:  271.15650486946106 sec\n",
      "---------- epoch 16 end ------------\n",
      "---------- epoch 17 begin ----------\n",
      "learning rate: 0.0001\n",
      "batch size: 256\n",
      "Training: \n"
     ]
    },
    {
     "name": "stderr",
     "output_type": "stream",
     "text": [
      "100%|██████████| 235/235 [03:35<00:00,  1.09it/s]\n"
     ]
    },
    {
     "name": "stdout",
     "output_type": "stream",
     "text": [
      "Done, total cost of epoch 17: 2610.5023472749776\n",
      "0/1 error of training set:  747 / 60000\n",
      "0/1 error of testing set:  234 / 10000\n",
      "Time used:  272.91150093078613 sec\n",
      "---------- epoch 17 end ------------\n",
      "---------- epoch 18 begin ----------\n",
      "learning rate: 0.0001\n",
      "batch size: 256\n",
      "Training: \n"
     ]
    },
    {
     "name": "stderr",
     "output_type": "stream",
     "text": [
      "100%|██████████| 235/235 [03:31<00:00,  1.11it/s]\n"
     ]
    },
    {
     "name": "stdout",
     "output_type": "stream",
     "text": [
      "Done, total cost of epoch 18: 2533.9460754383485\n",
      "0/1 error of training set:  718 / 60000\n",
      "0/1 error of testing set:  217 / 10000\n",
      "Time used:  269.62801718711853 sec\n",
      "---------- epoch 18 end ------------\n",
      "---------- epoch 19 begin ----------\n",
      "learning rate: 0.0001\n",
      "batch size: 256\n",
      "Training: \n"
     ]
    },
    {
     "name": "stderr",
     "output_type": "stream",
     "text": [
      "100%|██████████| 235/235 [03:36<00:00,  1.09it/s]\n"
     ]
    },
    {
     "name": "stdout",
     "output_type": "stream",
     "text": [
      "Done, total cost of epoch 19: 2467.4827111129284\n",
      "0/1 error of training set:  717 / 60000\n",
      "0/1 error of testing set:  220 / 10000\n",
      "Time used:  280.14702677726746 sec\n",
      "---------- epoch 19 end ------------\n",
      "---------- epoch 20 begin ----------\n",
      "learning rate: 0.0001\n",
      "batch size: 256\n",
      "Training: \n"
     ]
    },
    {
     "name": "stderr",
     "output_type": "stream",
     "text": [
      "100%|██████████| 235/235 [03:46<00:00,  1.04it/s]\n"
     ]
    },
    {
     "name": "stdout",
     "output_type": "stream",
     "text": [
      "Done, total cost of epoch 20: 2412.2225360588736\n",
      "0/1 error of training set:  646 / 60000\n",
      "0/1 error of testing set:  220 / 10000\n",
      "Time used:  287.02119493484497 sec\n",
      "---------- epoch 20 end ------------\n",
      "Total time used:  5552.656453847885 sec\n"
     ]
    }
   ],
   "source": [
    "# train model\n",
    "do_train = True\n",
    "if do_train:\n",
    "    err_rate_list = train(model, train_data, test_data, args[\"epoch\"], lr_global_list, args[\"batch_size\"])"
   ]
  },
  {
   "cell_type": "markdown",
   "metadata": {},
   "source": [
    "## Results"
   ]
  },
  {
   "cell_type": "code",
   "execution_count": 29,
   "metadata": {},
   "outputs": [
    {
     "data": {
      "image/png": "[encoded data removed]",
      "text/plain": [
       "<Figure size 432x288 with 1 Axes>"
      ]
     },
     "metadata": {
      "needs_background": "light"
     },
     "output_type": "display_data"
    },
    {
     "name": "stdout",
     "output_type": "stream",
     "text": [
      "error rate: 0.022\n"
     ]
    }
   ],
   "source": [
    "# This shows the error rate of training and testing data after each epoch\n",
    "x = np.arange(args[\"epoch\"])\n",
    "plt.xlabel('epoches')\n",
    "plt.ylabel('error rate')\n",
    "plt.plot(x, err_rate_list[0])\n",
    "plt.plot(x, err_rate_list[1])\n",
    "plt.legend(['training data', 'testing data'], loc='upper right')\n",
    "plt.grid(True)\n",
    "plt.savefig(\"output_10_0.png\")\n",
    "plt.show()\n",
    "\n",
    "# test model\n",
    "test(args[\"model_path\"], test_data)"
   ]
  },
  {
   "cell_type": "markdown",
   "metadata": {},
   "source": [
    "## Features"
   ]
  },
  {
   "cell_type": "code",
   "execution_count": 11,
   "metadata": {},
   "outputs": [],
   "source": [
    "import matplotlib"
   ]
  },
  {
   "cell_type": "code",
   "execution_count": 20,
   "metadata": {},
   "outputs": [
    {
     "name": "stdout",
     "output_type": "stream",
     "text": [
      "Correct label: 5\n",
      "Predict label: 5\n"
     ]
    },
    {
     "data": {
      "image/png": "[encoded data removed]",
      "text/plain": [
       "<Figure size 432x288 with 1 Axes>"
      ]
     },
     "metadata": {
      "needs_background": "light"
     },
     "output_type": "display_data"
    }
   ],
   "source": [
    "index = np.random.randint(10000,size=2)\n",
    "train_image_sample = test_data[0][index,:,:,:]\n",
    "train_label_sample = test_data[1][index]\n",
    "print(\"Correct label:\",train_label_sample[0])\n",
    "plt.imshow(train_image_sample[0,0,:,:], cmap=matplotlib.cm.Greys)\n",
    "_= model.Forward_Propagation(train_image_sample, train_label_sample, 'train')\n",
    "pred = np.argmax(model.cache[2],axis=1)\n",
    "print(\"Predict label:\",pred[0])"
   ]
  },
  {
   "cell_type": "code",
   "execution_count": 21,
   "metadata": {},
   "outputs": [
    {
     "name": "stdout",
     "output_type": "stream",
     "text": [
      "Feature maps of Conv1\n"
     ]
    },
    {
     "data": {
      "image/png": "[encoded data removed]",
      "text/plain": [
       "<Figure size 1296x648 with 6 Axes>"
      ]
     },
     "metadata": {
      "needs_background": "light"
     },
     "output_type": "display_data"
    }
   ],
   "source": [
    "print(\"Feature maps of Conv1\")\n",
    "\n",
    "fig, axarr = plt.subplots(1,6,figsize=(18,9))\n",
    "\n",
    "for j in range(6):\n",
    "    axarr[j].axis('off') \n",
    "    axarr[j].set_title( 'C1_map'+str(j+1))\n",
    "    axarr[j].imshow(model.Conv1.cache[2][0,j,:,:], cmap=matplotlib.cm.Greys)"
   ]
  },
  {
   "cell_type": "code",
   "execution_count": 22,
   "metadata": {},
   "outputs": [
    {
     "name": "stdout",
     "output_type": "stream",
     "text": [
      "Feature maps of Max Pooling 2\n"
     ]
    },
    {
     "data": {
      "image/png": "[encoded data removed]",
      "text/plain": [
       "<Figure size 1296x648 with 6 Axes>"
      ]
     },
     "metadata": {
      "needs_background": "light"
     },
     "output_type": "display_data"
    }
   ],
   "source": [
    "print(\"Feature maps of Max Pooling 2\")\n",
    "\n",
    "fig, axarr = plt.subplots(1,6,figsize=(18,9))\n",
    "\n",
    "for j in range(6):\n",
    "    axarr[j].axis('off') \n",
    "    axarr[j].set_title( 'M2_map'+str(j+1))\n",
    "    X = model.MaxPool2.cache\n",
    "    axarr[j].imshow(model.MaxPool2.forward(X)[0,j,:,:], cmap=matplotlib.cm.Greys)"
   ]
  },
  {
   "cell_type": "code",
   "execution_count": 23,
   "metadata": {},
   "outputs": [
    {
     "name": "stdout",
     "output_type": "stream",
     "text": [
      "Feature maps of Conv 3\n"
     ]
    },
    {
     "data": {
      "image/png": "[encoded data removed]",
      "text/plain": [
       "<Figure size 1296x576 with 16 Axes>"
      ]
     },
     "metadata": {
      "needs_background": "light"
     },
     "output_type": "display_data"
    }
   ],
   "source": [
    "print(\"Feature maps of Conv 3\")\n",
    "\n",
    "fig, axarr = plt.subplots(2,8,figsize=(18,8))\n",
    "\n",
    "for j in range(16):\n",
    "    x,y = int(j/8), j%8\n",
    "    axarr[x,y].axis('off') \n",
    "    axarr[x,y].set_title( 'C3_map'+str(j+1))\n",
    "    axarr[x,y].imshow(model.Conv3.cache[2][0,j,:,:], cmap=matplotlib.cm.Greys)"
   ]
  },
  {
   "cell_type": "code",
   "execution_count": 24,
   "metadata": {},
   "outputs": [
    {
     "name": "stdout",
     "output_type": "stream",
     "text": [
      "Feature maps of Max Pooling 4\n"
     ]
    },
    {
     "data": {
      "image/png": "[encoded data removed]",
      "text/plain": [
       "<Figure size 1296x576 with 16 Axes>"
      ]
     },
     "metadata": {
      "needs_background": "light"
     },
     "output_type": "display_data"
    }
   ],
   "source": [
    "print(\"Feature maps of Max Pooling 4\")\n",
    "\n",
    "fig, axarr = plt.subplots(2,8,figsize=(18,8))\n",
    "\n",
    "for j in range(16):\n",
    "    x,y = int(j/8), j%8\n",
    "    axarr[x,y].axis('off') \n",
    "    axarr[x,y].set_title( 'M4_map'+str(j+1))\n",
    "    X = model.MaxPool4.cache\n",
    "    axarr[x,y].imshow(model.MaxPool4.forward(X)[0,j,:,:], cmap=matplotlib.cm.Greys)"
   ]
  },
  {
   "cell_type": "code",
   "execution_count": 25,
   "metadata": {},
   "outputs": [
    {
     "name": "stdout",
     "output_type": "stream",
     "text": [
      "Feature maps of Conv 5\n"
     ]
    },
    {
     "data": {
      "image/png": "[encoded data removed]",
      "text/plain": [
       "<Figure size 1440x720 with 1 Axes>"
      ]
     },
     "metadata": {
      "needs_background": "light"
     },
     "output_type": "display_data"
    }
   ],
   "source": [
    "print(\"Feature maps of Conv 5\")\n",
    "\n",
    "plt.figure(figsize=(20,10))\n",
    "plt.axis('off') \n",
    "plt.imshow(model.Conv5.cache[2][0,:,:,:].reshape(1,-1), cmap=matplotlib.cm.Greys)\n",
    "plt.show()"
   ]
  },
  {
   "cell_type": "markdown",
   "metadata": {},
   "source": [
    "#### dump notebook env"
   ]
  },
  {
   "cell_type": "code",
   "execution_count": 26,
   "metadata": {},
   "outputs": [],
   "source": [
    "import dill"
   ]
  },
  {
   "cell_type": "code",
   "execution_count": 27,
   "metadata": {},
   "outputs": [],
   "source": [
    "dill.dump_session(\"Training_env.db\")"
   ]
  }
 ],
 "metadata": {
  "kernelspec": {
   "display_name": "Python 3",
   "language": "python",
   "name": "python3"
  },
  "language_info": {
   "codemirror_mode": {
    "name": "ipython",
    "version": 3
   },
   "file_extension": ".py",
   "mimetype": "text/x-python",
   "name": "python",
   "nbconvert_exporter": "python",
   "pygments_lexer": "ipython3",
   "version": "3.7.4"
  }
 },
 "nbformat": 4,
 "nbformat_minor": 4
}
